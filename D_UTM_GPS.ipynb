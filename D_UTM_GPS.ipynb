{
 "cells": [
  {
   "cell_type": "markdown",
   "metadata": {},
   "source": [
    "# GPS data converter: Degrees to UTM"
   ]
  },
  {
   "cell_type": "markdown",
   "metadata": {},
   "source": [
    "<div style=\"background-color:black;color:white;padding:20px;\">\n",
    "<p>M. I. Pedro José Correa Caicedo</p>\n",
    "</div>"
   ]
  },
  {
   "cell_type": "markdown",
   "metadata": {},
   "source": [
    "### 1) Import libraries:"
   ]
  },
  {
   "cell_type": "markdown",
   "metadata": {},
   "source": [
    "#### a) Processing libraries"
   ]
  },
  {
   "cell_type": "code",
   "execution_count": 1,
   "metadata": {},
   "outputs": [],
   "source": [
    "import numpy as np\n",
    "import pandas as pd\n",
    "import matplotlib.pyplot as plt\n",
    "from datetime import datetime"
   ]
  },
  {
   "cell_type": "markdown",
   "metadata": {},
   "source": [
    "#### b) PROJ (cartographic projections and coordinate transformations library)"
   ]
  },
  {
   "cell_type": "code",
   "execution_count": 2,
   "metadata": {},
   "outputs": [],
   "source": [
    "import pyproj\n",
    "from pyproj import Proj"
   ]
  },
  {
   "cell_type": "markdown",
   "metadata": {},
   "source": [
    "#### c) Time library"
   ]
  },
  {
   "cell_type": "code",
   "execution_count": 3,
   "metadata": {},
   "outputs": [],
   "source": [
    "now = datetime.now()\n",
    "fch= now.strftime(\"%Y-%m-%d-%H-%M-%S\")"
   ]
  },
  {
   "cell_type": "markdown",
   "metadata": {},
   "source": [
    "### 2) Import Data:"
   ]
  },
  {
   "cell_type": "code",
   "execution_count": 4,
   "metadata": {},
   "outputs": [],
   "source": [
    "df=pd.read_csv('data_GPS.csv')"
   ]
  },
  {
   "cell_type": "code",
   "execution_count": 5,
   "metadata": {},
   "outputs": [
    {
     "data": {
      "text/html": [
       "<div>\n",
       "<style scoped>\n",
       "    .dataframe tbody tr th:only-of-type {\n",
       "        vertical-align: middle;\n",
       "    }\n",
       "\n",
       "    .dataframe tbody tr th {\n",
       "        vertical-align: top;\n",
       "    }\n",
       "\n",
       "    .dataframe thead th {\n",
       "        text-align: right;\n",
       "    }\n",
       "</style>\n",
       "<table border=\"1\" class=\"dataframe\">\n",
       "  <thead>\n",
       "    <tr style=\"text-align: right;\">\n",
       "      <th></th>\n",
       "      <th>route</th>\n",
       "      <th>lat sensor</th>\n",
       "      <th>lon sensor</th>\n",
       "    </tr>\n",
       "  </thead>\n",
       "  <tbody>\n",
       "    <tr>\n",
       "      <th>0</th>\n",
       "      <td>r1</td>\n",
       "      <td>20.537055</td>\n",
       "      <td>-100.815725</td>\n",
       "    </tr>\n",
       "    <tr>\n",
       "      <th>1</th>\n",
       "      <td>r1</td>\n",
       "      <td>20.537036</td>\n",
       "      <td>-100.815740</td>\n",
       "    </tr>\n",
       "    <tr>\n",
       "      <th>2</th>\n",
       "      <td>r1</td>\n",
       "      <td>20.537016</td>\n",
       "      <td>-100.815763</td>\n",
       "    </tr>\n",
       "    <tr>\n",
       "      <th>3</th>\n",
       "      <td>r1</td>\n",
       "      <td>20.536995</td>\n",
       "      <td>-100.815783</td>\n",
       "    </tr>\n",
       "    <tr>\n",
       "      <th>4</th>\n",
       "      <td>r1</td>\n",
       "      <td>20.536980</td>\n",
       "      <td>-100.815804</td>\n",
       "    </tr>\n",
       "  </tbody>\n",
       "</table>\n",
       "</div>"
      ],
      "text/plain": [
       "  route  lat sensor  lon sensor\n",
       "0    r1   20.537055 -100.815725\n",
       "1    r1   20.537036 -100.815740\n",
       "2    r1   20.537016 -100.815763\n",
       "3    r1   20.536995 -100.815783\n",
       "4    r1   20.536980 -100.815804"
      ]
     },
     "execution_count": 5,
     "metadata": {},
     "output_type": "execute_result"
    }
   ],
   "source": [
    "df.head()"
   ]
  },
  {
   "cell_type": "markdown",
   "metadata": {},
   "source": [
    "### 3) Separating data  :"
   ]
  },
  {
   "cell_type": "markdown",
   "metadata": {},
   "source": [
    "#### a) Full vectors "
   ]
  },
  {
   "cell_type": "code",
   "execution_count": 6,
   "metadata": {},
   "outputs": [
    {
     "name": "stdout",
     "output_type": "stream",
     "text": [
      "1\n",
      "r1\n"
     ]
    }
   ],
   "source": [
    "r=df['route']\n",
    "lat=df['lat sensor']\n",
    "lon=df['lon sensor']\n",
    "Nr=len(r.unique())\n",
    "print(Nr)\n",
    "rn=r.unique()\n",
    "print(rn[0])"
   ]
  },
  {
   "cell_type": "markdown",
   "metadata": {},
   "source": [
    "#### b) Vectors separated by route "
   ]
  },
  {
   "cell_type": "code",
   "execution_count": 7,
   "metadata": {},
   "outputs": [
    {
     "name": "stdout",
     "output_type": "stream",
     "text": [
      "(474,)\n"
     ]
    }
   ],
   "source": [
    "rv=[]\n",
    "latv=[]\n",
    "lonv=[]\n",
    "\n",
    "for nr in range(Nr):\n",
    "    ##build the list of lists \n",
    "    latv.append([])\n",
    "    lonv.append([])\n",
    "    rv.append([])\n",
    "    for ru in range(len(r)):\n",
    "        if(r[ru]=='r'+str(nr+1)):\n",
    "            rv[nr].append(r[ru])\n",
    "            latv[nr].append(lat[ru])\n",
    "            lonv[nr].append(lon[ru])\n",
    "\n",
    "print(np.shape(latv[0]))"
   ]
  },
  {
   "cell_type": "markdown",
   "metadata": {},
   "source": [
    "### 4) UTM transformations  :"
   ]
  },
  {
   "cell_type": "markdown",
   "metadata": {},
   "source": [
    "#### a) Theoretical Considerations:"
   ]
  },
  {
   "cell_type": "markdown",
   "metadata": {},
   "source": [
    "<img src=\"./images/zonas_utm.png\" alt=\"haversine\" width=\"900\" height=\"700\" />\n",
    "\n",
    "##### Fig.1 UTM Zones.\n",
    "\n",
    "Ref: http://www.dmap.co.uk/utmworld.pdf"
   ]
  },
  {
   "cell_type": "markdown",
   "metadata": {},
   "source": [
    "The UTM representation is a projection of the latitude and longitude coordinates (in degrees) that are on the globe, sphere, towards a plane that is divided into zones as shown in Fig. 1. This transformation is possible thanks to several packages of equations that can be consulted at: https://upcommons.upc.edu/bitstream/handle/2117/77269/memoria.pdf\n",
    "\n",
    "To avoid programming and solving these equation packages, the pyproj library for Python was developed, which delivers the data conversion practically directly.\n"
   ]
  },
  {
   "cell_type": "markdown",
   "metadata": {},
   "source": [
    "##### Central point:\n",
    "\n",
    "If the coordinates to convert are in the north of the equator line. the central point where the aquador's line meets the primordial meritian is: \n",
    "\n",
    "$ X=500000 [m] e Y=0 [m] $ (1)\n",
    "\n",
    "And if the coordinates are south of the equator, the central point is given by: \n",
    "\n",
    "$X=500000 [m] e Y=10000000 [m] $ (2)\n",
    "\n",
    "In this way you will always work with positive numbers."
   ]
  },
  {
   "cell_type": "markdown",
   "metadata": {},
   "source": [
    "##### Parameters:\n",
    "\n",
    "To obtain the conversion the function \"proj\" from the library \"pyproj\" is necessary to give it the following values: \n",
    "\n",
    "$+proj= utm$; Get UTM coordinates.\n",
    "\n",
    "$+zone=14Q$; UTM zone in which the data is located, you should see Fig 1 and select the zone corresponding to the data.\n",
    "\n",
    "$+north$; if the data is north or south of the equator. to take into account the reference points for each case. see equations (1) and (2). \n",
    "\n",
    "$+ellps=WGS84$; reconstruct the coordinates with the equation of the ellipse for zone 14Q \n",
    "\n",
    "$+datum=WGS84$; datum for zone 14Q\n",
    "\n",
    "$+units=m$; resulting units in meters.  \n",
    "\n",
    "+no _ defs; function parameter. "
   ]
  },
  {
   "cell_type": "markdown",
   "metadata": {},
   "source": [
    "##### Ellipsoid and Datum:\n",
    "\n",
    "Definitions:  https://www.nrcan.gc.ca/earth-sciences/geography/topographic-information/maps/national-topographic-system-maps/map-datum/9791\n",
    "\n",
    "\n",
    "List of datums for each zone: https://spatialreference.org/ref/epsg/"
   ]
  },
  {
   "cell_type": "markdown",
   "metadata": {},
   "source": [
    "#### b) Data conversion:"
   ]
  },
  {
   "cell_type": "code",
   "execution_count": 8,
   "metadata": {},
   "outputs": [
    {
     "name": "stdout",
     "output_type": "stream",
     "text": [
      "(474,) (474,)\n"
     ]
    }
   ],
   "source": [
    "latutmv=[]\n",
    "lonutmv=[]\n",
    "\n",
    "for re in range(Nr):\n",
    "    myProj = Proj(\"+proj=utm +zone=14Q, +north +ellps=WGS84 +datum=WGS84 +units=m +no_defs\")\n",
    "    lon_,lat_ = myProj(lonv[re], latv[re]) \n",
    "    print(np.shape(lat_),np.shape(lon_))\n",
    "    latutmv.append(lat_)\n",
    "    lonutmv.append(lon_)\n"
   ]
  },
  {
   "cell_type": "code",
   "execution_count": 9,
   "metadata": {},
   "outputs": [
    {
     "name": "stdout",
     "output_type": "stream",
     "text": [
      "474\n"
     ]
    }
   ],
   "source": [
    "print(len(latutmv[0]))"
   ]
  },
  {
   "cell_type": "markdown",
   "metadata": {},
   "source": [
    "#### c) Graphics:"
   ]
  },
  {
   "cell_type": "code",
   "execution_count": 10,
   "metadata": {},
   "outputs": [
    {
     "data": {
      "image/png": "[encoded data removed]",
      "text/plain": [
       "<Figure size 1080x720 with 2 Axes>"
      ]
     },
     "metadata": {
      "needs_background": "light"
     },
     "output_type": "display_data"
    }
   ],
   "source": [
    "for gr in range(Nr):\n",
    "    fig, ax = plt.subplots(1,2)\n",
    "    fig.set_figheight(10)\n",
    "    fig.set_figwidth(15)\n",
    "    fig.suptitle('Route'+' '+str(gr+1),fontsize=10) \n",
    "    \n",
    "    ax[0].plot(latutmv[gr],lonutmv[gr],label='UTM')\n",
    "    ax[0].set_title('UTM lat,lon',loc='right')\n",
    "    ax[0].set(xlabel='latitude [m]',ylabel='longitude [m]')\n",
    "    ax[0].legend(loc=\"upper right\")\n",
    "    \n",
    "    ax[1].plot(latv[gr],lonv[gr],label='GPS (Degrees)')\n",
    "    ax[1].set_title('GPS lat,lon',loc='right')\n",
    "    ax[1].set(xlabel='latitude [°]',ylabel='longitude [°]')\n",
    "    ax[1].legend(loc=\"upper right\")\n",
    "    \n",
    "plt.show()"
   ]
  },
  {
   "cell_type": "markdown",
   "metadata": {},
   "source": [
    "#### d) Data save:"
   ]
  },
  {
   "cell_type": "code",
   "execution_count": 11,
   "metadata": {},
   "outputs": [],
   "source": [
    "for l in range(Nr):\n",
    "    data = {\n",
    "    'route': rv[l],\n",
    "    'UTM lat': latutmv[l],\n",
    "    'UTM lon':lonutmv[l]\n",
    "    }\n",
    "    df = pd.DataFrame(data, columns = ['route','UTM lat','UTM lon'])\n",
    "    df.to_csv('UTM_Pos'+fch +'.csv', mode='a')"
   ]
  }
 ],
 "metadata": {
  "kernelspec": {
   "display_name": "Python 3",
   "language": "python",
   "name": "python3"
  },
  "language_info": {
   "codemirror_mode": {
    "name": "ipython",
    "version": 3
   },
   "file_extension": ".py",
   "mimetype": "text/x-python",
   "name": "python",
   "nbconvert_exporter": "python",
   "pygments_lexer": "ipython3",
   "version": "3.6.8"
  }
 },
 "nbformat": 4,
 "nbformat_minor": 4
}
